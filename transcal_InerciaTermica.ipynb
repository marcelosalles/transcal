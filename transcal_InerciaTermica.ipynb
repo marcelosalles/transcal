{
 "cells": [
  {
   "cell_type": "markdown",
   "metadata": {},
   "source": [
    "# Inércia Térmica"
   ]
  },
  {
   "cell_type": "markdown",
   "metadata": {},
   "source": [
    "## Cálculo do h p/ convecção natural:"
   ]
  },
  {
   "cell_type": "markdown",
   "metadata": {},
   "source": [
    "## Materiais:"
   ]
  },
  {
   "cell_type": "code",
   "execution_count": 1,
   "metadata": {
    "collapsed": true
   },
   "outputs": [],
   "source": [
    "# material = [ro, k, c]\n",
    "\n",
    "TijoloFurado = [1200, 0.4, 1000]\n",
    "TijoloMacico = [2000, 1, 1000]\n",
    "Pedra = [2000, 2, 1000]\n",
    "ConcretoCelular = [500, .15, 1300]\n",
    "Isopor = [100, 0.04, 1000]\n",
    "Vidro = [2500, 1, 1000]\n",
    "ChapaMetal = [10000, 80, 500]\n",
    "AguaEstagnada = [1000, .6, 4200]\n"
   ]
  },
  {
   "cell_type": "markdown",
   "metadata": {},
   "source": [
    "## Método explícito:"
   ]
  },
  {
   "cell_type": "code",
   "execution_count": 7,
   "metadata": {
    "collapsed": false
   },
   "outputs": [],
   "source": [
    "\n",
    "def TransCal(deltax=.0025, deltat=1, ndias=2, Mat1=Isopor, LMat1=.025, Mat2=TijoloFurado, LMat2=.15, Tini=23):\n",
    "\n",
    "#variaveis:\n",
    "    \n",
    "    t = 0\n",
    "    segdia = 60*60*24 # s (seg*min*hora)\n",
    "\n",
    "        #Ambiente:\n",
    "\n",
    "    G = 0 # W/m2 \n",
    "    aplha = .3\n",
    "    qoc = G*aplha #W/m2\n",
    "\n",
    "    Tar = 1.5802580923*10**(-18)*t**4-3.1142315875*10**(-13)*t**3+1.5580085434*10**(-8)*t**2-4.2320948959*10**(-5)*t+20.367182771 # C\n",
    "    \n",
    "    Tint = 23 # C\n",
    "    Tviz = 23 # C\n",
    "\n",
    "    Tsupex = Tini # C\n",
    "    Tsupint = Tini # C\n",
    "    TMat1Mat2 = Tini # C\n",
    "    TMat2Mat1 = Tini # C\n",
    "\n",
    "    hext = 1/.04 # W/m2.K     \n",
    "    hint = 1/.13 # W/m2.K\n",
    "\n",
    "    Ee = 0\n",
    "    Es = 0\n",
    "    deltaE = 0\n",
    "\n",
    "    roAr = 1.205 # kg/m3\n",
    "    cAr = 1005 # J/kg.K\n",
    "        \n",
    "        #Geometria:\n",
    "\n",
    "    Asala = 10 # m2\n",
    "    Lsala = 10**(1/2) # m\n",
    "    Vsala = Asala*Lsala # m3\n",
    "\n",
    "\n",
    "        #Materiais:\n",
    "    \n",
    "    roMat1 = Mat1[0] # kg/m3\n",
    "    kMat1 = Mat1[1] # W/m.K\n",
    "    cMat1 = Mat1[2] # J/kg.K\n",
    "\n",
    "    roMat2 = Mat2[0] # kg/m3\n",
    "    kMat2 = Mat2[1] # W/m.K\n",
    "    cMat2 = Mat2[2] # J/kg.K\n",
    "    \n",
    "    Biext = (hext*deltax)/kMat1\n",
    "    Biint = (hint*deltax)/kMat2\n",
    "\n",
    "    FoMat1 = (kMat1*deltat)/(roMat1*cMat1*deltax**2) \n",
    "    FoMat2 = (kMat2*deltat)/(roMat2*cMat2*deltax**2)\n",
    "\n",
    "#calculos:\n",
    "\n",
    "    #Fo < 0.5 , Fo(1+Bi) < .05\n",
    "\n",
    "    if FoMat1 >= .5:\n",
    "        print('FoMat1 > 0.5')\n",
    "\n",
    "    if FoMat2 >= .5:\n",
    "        print('FoMat2 > 0.5')\n",
    "\n",
    "    if FoMat1*(1+Biext) > .5:\n",
    "        print('FoMat1*(1+Biext) > 0.5')\n",
    "\n",
    "    if FoMat2*(1+Biint) > .5:\n",
    "        print('FoMat2*(1+Biint) > 0.5')\n",
    "        \n",
    "    nMat1 = int(LMat1/deltax)-2\n",
    "    nMat2 = int(LMat2/deltax)-2\n",
    "\n",
    "    '''\n",
    "    #criando o cabecalho\n",
    "\n",
    "    cabecalho = []\n",
    "\n",
    "    par1 = []\n",
    "    for i in range(nMat1):\n",
    "        par1.append((i+1)*deltax)\n",
    "\n",
    "    par2 = []\n",
    "    for i in range(nMat2):\n",
    "        par2.append((i+1)*deltax)\n",
    "\n",
    "    cabecalho.append('t')\n",
    "    cabecalho.append('qoc')\n",
    "    cabecalho.append('Tar')\n",
    "    cabecalho.append('Tsupex')\n",
    "\n",
    "    for i in par1:\n",
    "        cabecalho.append(str(i))\n",
    "\n",
    "    cabecalho.append('TMat1Mat2')\n",
    "    cabecalho.append('TMat2Mat1')\n",
    "\n",
    "    for i in par2:\n",
    "        cabecalho.append(str(i))\n",
    "\n",
    "    cabecalho.append('Tsupint')\n",
    "    cabecalho.append('Tint')\n",
    "    cabecalho.append('Tviz')\n",
    "    cabecalho.append('Ee')\n",
    "    cabecalho.append('Es')\n",
    "    cabecalho.append('deltaE')\n",
    "    '''\n",
    "\n",
    "    #Criando linha t0:\n",
    "\n",
    "    t0 = [t,qoc,Tar,Tsupex]\n",
    "    \n",
    "    for i in range(nMat1+2+nMat2):\n",
    "        t0.append(Tini)\n",
    "    \n",
    "    t0.append(Tsupint)    \n",
    "    t0.append(Tint)\n",
    "    t0.append(Tviz)\n",
    "\n",
    "    t0.append(Ee)\n",
    "    t0.append(Es)\n",
    "    t0.append(deltaE)\n",
    "\n",
    "    #criando matriz e adicionando cabecalho e linha t0:\n",
    "\n",
    "    matriz = []\n",
    "\n",
    "    '''matriz.append(cabecalho)'''\n",
    "    matriz.append(t0)\n",
    "\n",
    "    #inicio da iteracao:\n",
    "\n",
    "    while t < (ndias*segdia):\n",
    "\n",
    "        t += deltat\n",
    "\n",
    "        tdia = (t%segdia) #deixa entre 0 e 24h\n",
    "        \n",
    "        G = -1.0717*10**(-6)*tdia**2 + 9.2593*10**(-2)*tdia - 1.5000*10**3\n",
    "\n",
    "        if G < 0:\n",
    "            qoc = 0\n",
    "        else:\n",
    "            qoc = G*aplha\n",
    "\n",
    "        Tar = 1.5802580923*10**(-18)*tdia**4-3.1142315875*10**(-13)*tdia**3+1.5580085434*10**(-8)*tdia**2-4.2320948959*10**(-5)*tdia+20.367182771\n",
    "\n",
    "        Tsupex = (1-2*FoMat1-2*Biext*FoMat1)*t0[3]+2*FoMat1*t0[4]+2*Biext*FoMat1*Tar+2*Biext*FoMat1*qoc/hext\n",
    "\n",
    "        t1 = [t,qoc,Tar,Tsupex]\n",
    "\n",
    "\n",
    "        for i in range(nMat1):\n",
    "\n",
    "            j = 4+i\n",
    "            Ti = (1-2*FoMat1)*t0[j]+FoMat1*t1[j-1]+FoMat1*t0[j+1]\n",
    "\n",
    "            t1.append(Ti)\n",
    "\n",
    "        TMat1Mat2 = (1-2*FoMat1)*t0[len(t1)]+FoMat1*t1[-1]+FoMat2*t0[(len(t1)+1)]\n",
    "        t1.append(TMat1Mat2)\n",
    "\n",
    "        TMat2Mat1 = (1-2*FoMat2)*t0[len(t1)]+FoMat1*t1[-1]+FoMat2*t0[(len(t1)+1)]\n",
    "        t1.append(TMat2Mat1)\n",
    "\n",
    "        for i in range(nMat2):\n",
    "\n",
    "            j = 4+nMat1+2+i\n",
    "            Ti = (1-2*FoMat2)*t0[j]+FoMat2*t0[j-1]+FoMat2*t0[j+1]\n",
    "\n",
    "            t1.append(Ti)    \n",
    "\n",
    "        Tsupint = (1-2*FoMat2-2*Biint*FoMat2)*t0[len(t1)]+2*FoMat2*t1[-1]+2*Biint*FoMat2*t0[(len(t1)+1)]\n",
    "        t1.append(Tsupint)\n",
    "        \n",
    "        Tar = (hint*Asala*(Tsupint+5*Tviz)+roAr*Vsala*cAr*t0[len(t1)])/(6*hint*Asala+roAr*cAr*Vsala)\n",
    "        t1.append(Tar)\n",
    "\n",
    "        t1.append(Tviz)\n",
    "\n",
    "        Ee = kMat1*Asala*(t1[3]-t1[4])*deltat/deltax\n",
    "        Es = kMat1*Asala*(t1[-4]-t1[-3])*deltat/deltax\n",
    "        deltaE = Ee-Es\n",
    "\n",
    "        t1.append(Ee)\n",
    "        t1.append(Es)\n",
    "        t1.append(deltaE)\n",
    "\n",
    "        matriz.append(t1)\n",
    "\n",
    "        t0 = t1  \n",
    "    \n",
    "    return matriz, nMat1, nMat2\n",
    "\n"
   ]
  },
  {
   "cell_type": "markdown",
   "metadata": {},
   "source": [
    "## Gráficos:"
   ]
  },
  {
   "cell_type": "code",
   "execution_count": 25,
   "metadata": {
    "collapsed": true
   },
   "outputs": [],
   "source": [
    "import matplotlib.pyplot as plt\n",
    "% matplotlib inline\n",
    "\n",
    "def graficoT(diaini = 2):\n",
    "    \n",
    "    #definicao do intervalo analisado:\n",
    "    \n",
    "    inianalise = t.index((diaini-1)*60*60*24)\n",
    "    fimanalise = t.index(inianalise+60*60*24)\n",
    "    \n",
    "    #encontrando T maximos e respectivos t's\n",
    "        \n",
    "    maxTar = max(Tar[inianalise:fimanalise])\n",
    "    maxTart = t[(Tar[inianalise:fimanalise].index(maxTar))+inianalise]    \n",
    "    maxTsupext = max(Tsupext[inianalise:fimanalise])\n",
    "    maxTsupextt = t[(Tsupext[inianalise:fimanalise].index(maxTsupext))+inianalise]\n",
    "    maxTsupint = max(Tsupint[inianalise:fimanalise])\n",
    "    maxTsupintt = t[(Tsupint[inianalise:fimanalise].index(maxTsupint))+inianalise]\n",
    "    \n",
    "    #encontrando T minimos\n",
    "    \n",
    "    minTar = min(Tar[inianalise:fimanalise])   \n",
    "    minTsupext = min(Tsupext[inianalise:fimanalise])\n",
    "    minTsupint = min(Tsupint[inianalise:fimanalise])\n",
    "    \n",
    "    #adiconando dados ao gráfico\n",
    "    \n",
    "    plt.plot(maxTart,maxTar,'ro')\n",
    "    plt.plot(maxTsupextt,maxTsupext,'ro')\n",
    "    plt.plot(maxTsupintt,maxTsupint,'ro')\n",
    "    \n",
    "    plt.plot(t,Tar, label= 'Tar')\n",
    "    plt.plot(t,Tsupext, label= 'Tsupext')\n",
    "    plt.plot(t,Tsupint, label= 'Tsupint')\n",
    "    plt.legend(bbox_to_anchor=(1.05, 1), loc=2, borderaxespad=0.)\n",
    "    plt.ylim((minTar-2),(maxTsupext+2))\n",
    "    plt.xlabel('t (s)')\n",
    "    plt.ylabel('T (C)')    \n",
    "    plt.show()\n",
    "    \n",
    "    # definindo dados de saida\n",
    "    \n",
    "    fatamor = (maxTsupext-minTsupext)-(maxTsupint-minTsupint)\n",
    "    \n",
    "    print('Tar máximo:',\"%.2f\" %  maxTar,'C')\n",
    "    print('Tsupext máximo:',\"%.2f\" %  maxTsupext,'C')\n",
    "    print('Tsupint máximo:',\"%.2f\" %  maxTsupint,'C')\n",
    "    print('Atraso témico:',(maxTsupintt-maxTsupextt)//3600,'h',((maxTsupintt-maxTsupextt)%3600)//60,'min')\n",
    "    print('Fator de amortecimento:',\"%.2f\" % fatamor)\n",
    "\n",
    "''' '''\n",
    "\n",
    "def graficoq(diaini = 2):\n",
    "        \n",
    "    #definicao do intervalo analisado:\n",
    "    \n",
    "    inianalise = t.index((diaini-1)*60*60*24)\n",
    "    fimanalise = t.index(inianalise+60*60*24)\n",
    "    \n",
    "    plt.plot(t[1000:],Ee[1000:], label= 'Ee')\n",
    "    plt.plot(t[1000:],Es[1000:], label= 'Es')\n",
    "    #plt.plot(t,G)\n",
    "    \n",
    "    #plt.plot(t,Edelta, label= 'deltaE')\n",
    "    plt.axhline(y=0)\n",
    "    #plt.axvline(x=(diaini-1)*3600*24)\n",
    "    plt.xlim(inianalise,fimanalise)\n",
    "    plt.legend(bbox_to_anchor=(1.05, 1), loc=2, borderaxespad=0.)\n",
    "    plt.xlabel('t (s)')\n",
    "    plt.ylabel('E (J)')    \n",
    "    plt.show()"
   ]
  },
  {
   "cell_type": "markdown",
   "metadata": {},
   "source": [
    "## Seleção dos dados:"
   ]
  },
  {
   "cell_type": "code",
   "execution_count": 32,
   "metadata": {
    "collapsed": false
   },
   "outputs": [],
   "source": [
    "dados = TransCal(deltax=0.01, Mat1=Isopor,LMat1=.020,Mat2=ChapaMetal, LMat2=.03, ndias=5,Tini=20)\n",
    "\n",
    "#criando vetores para o grafico:\n",
    "t = []\n",
    "Tar = []\n",
    "Tsupext = []\n",
    "Tsupint = []\n",
    "Ee = []\n",
    "Es = []\n",
    "Edelta = []\n",
    "G =[]\n",
    "\n",
    "#adicionando os dados nos vetores:\n",
    "for linha in dados[0]:\n",
    "\n",
    "    t.append(linha[0])\n",
    "    Tar.append(linha[2])\n",
    "    Tsupext.append(linha[3])\n",
    "    Tsupint.append(linha[(4+dados[1]+2+dados[2])])\n",
    "    Ee.append(linha[-3])\n",
    "    Es.append(linha[-2])\n",
    "    Edelta.append(linha[-1])\n",
    "    G.append(linha[1])"
   ]
  },
  {
   "cell_type": "code",
   "execution_count": 33,
   "metadata": {
    "collapsed": false
   },
   "outputs": [
    {
     "data": {
      "image/png": "[encoded data removed]",
      "text/plain": [
       "<matplotlib.figure.Figure at 0x7b56080>"
      ]
     },
     "metadata": {},
     "output_type": "display_data"
    },
    {
     "name": "stdout",
     "output_type": "stream",
     "text": [
      "Tar máximo: 28.18 C\n",
      "Tsupext máximo: 34.18 C\n",
      "Tsupint máximo: 0.93 C\n",
      "Atraso témico: 0 h 4 min\n",
      "Fator de amortecimento: 13.49\n"
     ]
    }
   ],
   "source": [
    "graficoT(diaini=4)"
   ]
  },
  {
   "cell_type": "code",
   "execution_count": 34,
   "metadata": {
    "collapsed": false
   },
   "outputs": [
    {
     "data": {
      "image/png": "[encoded data removed]",
      "text/plain": [
       "<matplotlib.figure.Figure at 0x7b56f98>"
      ]
     },
     "metadata": {},
     "output_type": "display_data"
    }
   ],
   "source": [
    "graficoq()"
   ]
  },
  {
   "cell_type": "code",
   "execution_count": null,
   "metadata": {
    "collapsed": true
   },
   "outputs": [],
   "source": []
  }
 ],
 "metadata": {
  "kernelspec": {
   "display_name": "Python 3",
   "language": "python",
   "name": "python3"
  },
  "language_info": {
   "codemirror_mode": {
    "name": "ipython",
    "version": 3
   },
   "file_extension": ".py",
   "mimetype": "text/x-python",
   "name": "python",
   "nbconvert_exporter": "python",
   "pygments_lexer": "ipython3",
   "version": "3.5.1"
  }
 },
 "nbformat": 4,
 "nbformat_minor": 0
}
